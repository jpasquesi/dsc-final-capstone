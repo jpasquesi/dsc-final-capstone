{
 "cells": [
  {
   "cell_type": "markdown",
   "metadata": {},
   "source": [
    "# Apprenticeship Capstone Project"
   ]
  },
  {
   "cell_type": "markdown",
   "metadata": {},
   "source": [
    "For my final capstone project, I decided to take a look into the NCAA Men's March Madness Basketball Tournament. My goal was to find a way to predict the outcomes of the games based on different measures to then eventually be able to predict a better, more accurate bracket for a NCAA March Madness bracket pool. "
   ]
  },
  {
   "cell_type": "code",
   "execution_count": 1,
   "metadata": {},
   "outputs": [],
   "source": [
    "### Relevant imports ###\n",
    "import numpy as np\n",
    "import pandas as pd\n",
    "from scipy import stats\n",
    "import matplotlib.pyplot as plt\n",
    "from sklearn.linear_model import LogisticRegression\n",
    "from sklearn.model_selection import GridSearchCV\n",
    "from sklearn.model_selection import train_test_split\n",
    "from sklearn.metrics import confusion_matrix\n",
    "from sklearn.metrics import precision_score, recall_score, accuracy_score, f1_score\n",
    "from sklearn.metrics import confusion_matrix\n",
    "\n",
    "%matplotlib inline"
   ]
  },
  {
   "cell_type": "markdown",
   "metadata": {},
   "source": [
    "# Tournament Seed"
   ]
  },
  {
   "cell_type": "markdown",
   "metadata": {},
   "source": [
    "### Data Cleaning and Preparation\n",
    "After a lot of playing around with different datasets, I decided to use data provided by a Kaggle Data Competition focusing on March Madness. The competition provided participants with a variety of datasets, but for my personal project and idea, I only used a few and below are the main two for the following model:\n",
    "\n",
    "**NCAATourneySeeds.csv**: includes Season, Seed, TeamID\n",
    "\n",
    "**NCAATourneyCompact Results.csv**: includes Season, DayNum (what day the game was played on), WTeamID, WScore, LTeamID, LScore, WLoc (H: home, A: away, N: neutral), NumOT (number of overtime periods) "
   ]
  },
  {
   "cell_type": "code",
   "execution_count": 2,
   "metadata": {},
   "outputs": [],
   "source": [
    "## Load in relevant datasets\n",
    "teams = pd.read_csv('data/Teams.csv')\n",
    "seeds = pd.read_csv('data/NCAATourneySeeds.csv')\n",
    "tourney = pd.read_csv('data/NCAATourneyCompactResults.csv')"
   ]
  },
  {
   "cell_type": "code",
   "execution_count": 3,
   "metadata": {},
   "outputs": [
    {
     "data": {
      "text/html": [
       "<div>\n",
       "<style scoped>\n",
       "    .dataframe tbody tr th:only-of-type {\n",
       "        vertical-align: middle;\n",
       "    }\n",
       "\n",
       "    .dataframe tbody tr th {\n",
       "        vertical-align: top;\n",
       "    }\n",
       "\n",
       "    .dataframe thead th {\n",
       "        text-align: right;\n",
       "    }\n",
       "</style>\n",
       "<table border=\"1\" class=\"dataframe\">\n",
       "  <thead>\n",
       "    <tr style=\"text-align: right;\">\n",
       "      <th></th>\n",
       "      <th>TeamID</th>\n",
       "      <th>TeamName</th>\n",
       "      <th>FirstD1Season</th>\n",
       "      <th>LastD1Season</th>\n",
       "    </tr>\n",
       "  </thead>\n",
       "  <tbody>\n",
       "    <tr>\n",
       "      <th>0</th>\n",
       "      <td>1101</td>\n",
       "      <td>Abilene Chr</td>\n",
       "      <td>2014</td>\n",
       "      <td>2018</td>\n",
       "    </tr>\n",
       "    <tr>\n",
       "      <th>1</th>\n",
       "      <td>1102</td>\n",
       "      <td>Air Force</td>\n",
       "      <td>1985</td>\n",
       "      <td>2018</td>\n",
       "    </tr>\n",
       "    <tr>\n",
       "      <th>2</th>\n",
       "      <td>1103</td>\n",
       "      <td>Akron</td>\n",
       "      <td>1985</td>\n",
       "      <td>2018</td>\n",
       "    </tr>\n",
       "    <tr>\n",
       "      <th>3</th>\n",
       "      <td>1104</td>\n",
       "      <td>Alabama</td>\n",
       "      <td>1985</td>\n",
       "      <td>2018</td>\n",
       "    </tr>\n",
       "    <tr>\n",
       "      <th>4</th>\n",
       "      <td>1105</td>\n",
       "      <td>Alabama A&amp;M</td>\n",
       "      <td>2000</td>\n",
       "      <td>2018</td>\n",
       "    </tr>\n",
       "  </tbody>\n",
       "</table>\n",
       "</div>"
      ],
      "text/plain": [
       "   TeamID     TeamName  FirstD1Season  LastD1Season\n",
       "0    1101  Abilene Chr           2014          2018\n",
       "1    1102    Air Force           1985          2018\n",
       "2    1103        Akron           1985          2018\n",
       "3    1104      Alabama           1985          2018\n",
       "4    1105  Alabama A&M           2000          2018"
      ]
     },
     "execution_count": 3,
     "metadata": {},
     "output_type": "execute_result"
    }
   ],
   "source": [
    "teams.head()"
   ]
  },
  {
   "cell_type": "code",
   "execution_count": 4,
   "metadata": {},
   "outputs": [
    {
     "data": {
      "text/html": [
       "<div>\n",
       "<style scoped>\n",
       "    .dataframe tbody tr th:only-of-type {\n",
       "        vertical-align: middle;\n",
       "    }\n",
       "\n",
       "    .dataframe tbody tr th {\n",
       "        vertical-align: top;\n",
       "    }\n",
       "\n",
       "    .dataframe thead th {\n",
       "        text-align: right;\n",
       "    }\n",
       "</style>\n",
       "<table border=\"1\" class=\"dataframe\">\n",
       "  <thead>\n",
       "    <tr style=\"text-align: right;\">\n",
       "      <th></th>\n",
       "      <th>Season</th>\n",
       "      <th>Seed</th>\n",
       "      <th>TeamID</th>\n",
       "    </tr>\n",
       "  </thead>\n",
       "  <tbody>\n",
       "    <tr>\n",
       "      <th>0</th>\n",
       "      <td>1985</td>\n",
       "      <td>W01</td>\n",
       "      <td>1207</td>\n",
       "    </tr>\n",
       "    <tr>\n",
       "      <th>1</th>\n",
       "      <td>1985</td>\n",
       "      <td>W02</td>\n",
       "      <td>1210</td>\n",
       "    </tr>\n",
       "    <tr>\n",
       "      <th>2</th>\n",
       "      <td>1985</td>\n",
       "      <td>W03</td>\n",
       "      <td>1228</td>\n",
       "    </tr>\n",
       "    <tr>\n",
       "      <th>3</th>\n",
       "      <td>1985</td>\n",
       "      <td>W04</td>\n",
       "      <td>1260</td>\n",
       "    </tr>\n",
       "    <tr>\n",
       "      <th>4</th>\n",
       "      <td>1985</td>\n",
       "      <td>W05</td>\n",
       "      <td>1374</td>\n",
       "    </tr>\n",
       "  </tbody>\n",
       "</table>\n",
       "</div>"
      ],
      "text/plain": [
       "   Season Seed  TeamID\n",
       "0    1985  W01    1207\n",
       "1    1985  W02    1210\n",
       "2    1985  W03    1228\n",
       "3    1985  W04    1260\n",
       "4    1985  W05    1374"
      ]
     },
     "execution_count": 4,
     "metadata": {},
     "output_type": "execute_result"
    }
   ],
   "source": [
    "seeds.head()"
   ]
  },
  {
   "cell_type": "code",
   "execution_count": 5,
   "metadata": {
    "scrolled": true
   },
   "outputs": [
    {
     "data": {
      "text/html": [
       "<div>\n",
       "<style scoped>\n",
       "    .dataframe tbody tr th:only-of-type {\n",
       "        vertical-align: middle;\n",
       "    }\n",
       "\n",
       "    .dataframe tbody tr th {\n",
       "        vertical-align: top;\n",
       "    }\n",
       "\n",
       "    .dataframe thead th {\n",
       "        text-align: right;\n",
       "    }\n",
       "</style>\n",
       "<table border=\"1\" class=\"dataframe\">\n",
       "  <thead>\n",
       "    <tr style=\"text-align: right;\">\n",
       "      <th></th>\n",
       "      <th>Season</th>\n",
       "      <th>DayNum</th>\n",
       "      <th>WTeamID</th>\n",
       "      <th>WScore</th>\n",
       "      <th>LTeamID</th>\n",
       "      <th>LScore</th>\n",
       "      <th>WLoc</th>\n",
       "      <th>NumOT</th>\n",
       "    </tr>\n",
       "  </thead>\n",
       "  <tbody>\n",
       "    <tr>\n",
       "      <th>0</th>\n",
       "      <td>1985</td>\n",
       "      <td>136</td>\n",
       "      <td>1116</td>\n",
       "      <td>63</td>\n",
       "      <td>1234</td>\n",
       "      <td>54</td>\n",
       "      <td>N</td>\n",
       "      <td>0</td>\n",
       "    </tr>\n",
       "    <tr>\n",
       "      <th>1</th>\n",
       "      <td>1985</td>\n",
       "      <td>136</td>\n",
       "      <td>1120</td>\n",
       "      <td>59</td>\n",
       "      <td>1345</td>\n",
       "      <td>58</td>\n",
       "      <td>N</td>\n",
       "      <td>0</td>\n",
       "    </tr>\n",
       "    <tr>\n",
       "      <th>2</th>\n",
       "      <td>1985</td>\n",
       "      <td>136</td>\n",
       "      <td>1207</td>\n",
       "      <td>68</td>\n",
       "      <td>1250</td>\n",
       "      <td>43</td>\n",
       "      <td>N</td>\n",
       "      <td>0</td>\n",
       "    </tr>\n",
       "    <tr>\n",
       "      <th>3</th>\n",
       "      <td>1985</td>\n",
       "      <td>136</td>\n",
       "      <td>1229</td>\n",
       "      <td>58</td>\n",
       "      <td>1425</td>\n",
       "      <td>55</td>\n",
       "      <td>N</td>\n",
       "      <td>0</td>\n",
       "    </tr>\n",
       "    <tr>\n",
       "      <th>4</th>\n",
       "      <td>1985</td>\n",
       "      <td>136</td>\n",
       "      <td>1242</td>\n",
       "      <td>49</td>\n",
       "      <td>1325</td>\n",
       "      <td>38</td>\n",
       "      <td>N</td>\n",
       "      <td>0</td>\n",
       "    </tr>\n",
       "  </tbody>\n",
       "</table>\n",
       "</div>"
      ],
      "text/plain": [
       "   Season  DayNum  WTeamID  WScore  LTeamID  LScore WLoc  NumOT\n",
       "0    1985     136     1116      63     1234      54    N      0\n",
       "1    1985     136     1120      59     1345      58    N      0\n",
       "2    1985     136     1207      68     1250      43    N      0\n",
       "3    1985     136     1229      58     1425      55    N      0\n",
       "4    1985     136     1242      49     1325      38    N      0"
      ]
     },
     "execution_count": 5,
     "metadata": {},
     "output_type": "execute_result"
    }
   ],
   "source": [
    "tourney.head()"
   ]
  },
  {
   "cell_type": "markdown",
   "metadata": {},
   "source": [
    "Since the `Seed` column in the Tournament Seeds dataset is a string with additional characters, I created a new column, `SeedNum` with only the number portion of the seed column and then convert it from a string to a number. Then, I wanted to keep only the new, relevant seed column `SeedNum` so I dropped the `Seed` column."
   ]
  },
  {
   "cell_type": "code",
   "execution_count": 6,
   "metadata": {
    "scrolled": true
   },
   "outputs": [
    {
     "data": {
      "text/html": [
       "<div>\n",
       "<style scoped>\n",
       "    .dataframe tbody tr th:only-of-type {\n",
       "        vertical-align: middle;\n",
       "    }\n",
       "\n",
       "    .dataframe tbody tr th {\n",
       "        vertical-align: top;\n",
       "    }\n",
       "\n",
       "    .dataframe thead th {\n",
       "        text-align: right;\n",
       "    }\n",
       "</style>\n",
       "<table border=\"1\" class=\"dataframe\">\n",
       "  <thead>\n",
       "    <tr style=\"text-align: right;\">\n",
       "      <th></th>\n",
       "      <th>Season</th>\n",
       "      <th>TeamID</th>\n",
       "      <th>SeedNum</th>\n",
       "    </tr>\n",
       "  </thead>\n",
       "  <tbody>\n",
       "    <tr>\n",
       "      <th>0</th>\n",
       "      <td>1985</td>\n",
       "      <td>1207</td>\n",
       "      <td>1</td>\n",
       "    </tr>\n",
       "    <tr>\n",
       "      <th>1</th>\n",
       "      <td>1985</td>\n",
       "      <td>1210</td>\n",
       "      <td>2</td>\n",
       "    </tr>\n",
       "    <tr>\n",
       "      <th>2</th>\n",
       "      <td>1985</td>\n",
       "      <td>1228</td>\n",
       "      <td>3</td>\n",
       "    </tr>\n",
       "    <tr>\n",
       "      <th>3</th>\n",
       "      <td>1985</td>\n",
       "      <td>1260</td>\n",
       "      <td>4</td>\n",
       "    </tr>\n",
       "    <tr>\n",
       "      <th>4</th>\n",
       "      <td>1985</td>\n",
       "      <td>1374</td>\n",
       "      <td>5</td>\n",
       "    </tr>\n",
       "  </tbody>\n",
       "</table>\n",
       "</div>"
      ],
      "text/plain": [
       "   Season  TeamID  SeedNum\n",
       "0    1985    1207        1\n",
       "1    1985    1210        2\n",
       "2    1985    1228        3\n",
       "3    1985    1260        4\n",
       "4    1985    1374        5"
      ]
     },
     "execution_count": 6,
     "metadata": {},
     "output_type": "execute_result"
    }
   ],
   "source": [
    "seeds['SeedNum'] = seeds['Seed'].str[1:3]\n",
    "seeds['SeedNum'] = pd.to_numeric(seeds['SeedNum'])\n",
    "seeds.drop('Seed', inplace = True, axis=1)\n",
    "seeds.head()"
   ]
  },
  {
   "cell_type": "markdown",
   "metadata": {},
   "source": [
    "After looking at the various columns that were provided in NCAA Tournament Compact Results dataset, I only wanted to focus on the winning and losing team IDS since the only variable I am focusing on is the seeding that is given in the `seeds` dataframe. So I took a subset of the columns from the tourney dataframe and only kept `Season`, `WTeamID` and `LTeamID`."
   ]
  },
  {
   "cell_type": "code",
   "execution_count": 7,
   "metadata": {
    "scrolled": true
   },
   "outputs": [
    {
     "data": {
      "text/html": [
       "<div>\n",
       "<style scoped>\n",
       "    .dataframe tbody tr th:only-of-type {\n",
       "        vertical-align: middle;\n",
       "    }\n",
       "\n",
       "    .dataframe tbody tr th {\n",
       "        vertical-align: top;\n",
       "    }\n",
       "\n",
       "    .dataframe thead th {\n",
       "        text-align: right;\n",
       "    }\n",
       "</style>\n",
       "<table border=\"1\" class=\"dataframe\">\n",
       "  <thead>\n",
       "    <tr style=\"text-align: right;\">\n",
       "      <th></th>\n",
       "      <th>Season</th>\n",
       "      <th>WTeamID</th>\n",
       "      <th>LTeamID</th>\n",
       "    </tr>\n",
       "  </thead>\n",
       "  <tbody>\n",
       "    <tr>\n",
       "      <th>0</th>\n",
       "      <td>1985</td>\n",
       "      <td>1116</td>\n",
       "      <td>1234</td>\n",
       "    </tr>\n",
       "    <tr>\n",
       "      <th>1</th>\n",
       "      <td>1985</td>\n",
       "      <td>1120</td>\n",
       "      <td>1345</td>\n",
       "    </tr>\n",
       "    <tr>\n",
       "      <th>2</th>\n",
       "      <td>1985</td>\n",
       "      <td>1207</td>\n",
       "      <td>1250</td>\n",
       "    </tr>\n",
       "    <tr>\n",
       "      <th>3</th>\n",
       "      <td>1985</td>\n",
       "      <td>1229</td>\n",
       "      <td>1425</td>\n",
       "    </tr>\n",
       "    <tr>\n",
       "      <th>4</th>\n",
       "      <td>1985</td>\n",
       "      <td>1242</td>\n",
       "      <td>1325</td>\n",
       "    </tr>\n",
       "  </tbody>\n",
       "</table>\n",
       "</div>"
      ],
      "text/plain": [
       "   Season  WTeamID  LTeamID\n",
       "0    1985     1116     1234\n",
       "1    1985     1120     1345\n",
       "2    1985     1207     1250\n",
       "3    1985     1229     1425\n",
       "4    1985     1242     1325"
      ]
     },
     "execution_count": 7,
     "metadata": {},
     "output_type": "execute_result"
    }
   ],
   "source": [
    "tourney_features = ['Season', 'WTeamID', 'LTeamID']\n",
    "tourney = tourney[tourney_features]\n",
    "tourney.head()"
   ]
  },
  {
   "cell_type": "markdown",
   "metadata": {},
   "source": [
    "In order to get the seeds of the winning and losing team in the tourney dataframe, I need to merge the `seeds` and `tourney` dataframes. To prepare the `seeds` dataframe for merging, I created two new dataframes: `Wteams` for winning teams and `Lteams` for losing teams. I then renamed the `teamID` column to `WTeamID` for the `Wteams` dataframe and `LTeamID` for the `Lteams` dataframe. I did the name for the `SeedNum` column as well: `WSeedNum` for `Wteams` and `LSeedNum` for `Lteams`. Once the column names matched with all of the dataframes, I first merged the `tourney` dataframe with the `Wteams` using the commom column names of `Season` and `WteamID` and stored it in a temporary dataframe named `win_merge`. I then merged the temporary dataframe `win_merge` with the `Lteams` dataframe on the common column names `Season` and `LTeamID` to finally created a merged dataframe: `data`."
   ]
  },
  {
   "cell_type": "code",
   "execution_count": 8,
   "metadata": {},
   "outputs": [
    {
     "data": {
      "text/html": [
       "<div>\n",
       "<style scoped>\n",
       "    .dataframe tbody tr th:only-of-type {\n",
       "        vertical-align: middle;\n",
       "    }\n",
       "\n",
       "    .dataframe tbody tr th {\n",
       "        vertical-align: top;\n",
       "    }\n",
       "\n",
       "    .dataframe thead th {\n",
       "        text-align: right;\n",
       "    }\n",
       "</style>\n",
       "<table border=\"1\" class=\"dataframe\">\n",
       "  <thead>\n",
       "    <tr style=\"text-align: right;\">\n",
       "      <th></th>\n",
       "      <th>Season</th>\n",
       "      <th>WTeamID</th>\n",
       "      <th>LTeamID</th>\n",
       "      <th>WSeedNum</th>\n",
       "      <th>LSeedNum</th>\n",
       "    </tr>\n",
       "  </thead>\n",
       "  <tbody>\n",
       "    <tr>\n",
       "      <th>0</th>\n",
       "      <td>1985</td>\n",
       "      <td>1116</td>\n",
       "      <td>1234</td>\n",
       "      <td>9</td>\n",
       "      <td>8</td>\n",
       "    </tr>\n",
       "    <tr>\n",
       "      <th>1</th>\n",
       "      <td>1985</td>\n",
       "      <td>1120</td>\n",
       "      <td>1345</td>\n",
       "      <td>11</td>\n",
       "      <td>6</td>\n",
       "    </tr>\n",
       "    <tr>\n",
       "      <th>2</th>\n",
       "      <td>1985</td>\n",
       "      <td>1207</td>\n",
       "      <td>1250</td>\n",
       "      <td>1</td>\n",
       "      <td>16</td>\n",
       "    </tr>\n",
       "    <tr>\n",
       "      <th>3</th>\n",
       "      <td>1985</td>\n",
       "      <td>1229</td>\n",
       "      <td>1425</td>\n",
       "      <td>9</td>\n",
       "      <td>8</td>\n",
       "    </tr>\n",
       "    <tr>\n",
       "      <th>4</th>\n",
       "      <td>1985</td>\n",
       "      <td>1242</td>\n",
       "      <td>1325</td>\n",
       "      <td>3</td>\n",
       "      <td>14</td>\n",
       "    </tr>\n",
       "  </tbody>\n",
       "</table>\n",
       "</div>"
      ],
      "text/plain": [
       "   Season  WTeamID  LTeamID  WSeedNum  LSeedNum\n",
       "0    1985     1116     1234         9         8\n",
       "1    1985     1120     1345        11         6\n",
       "2    1985     1207     1250         1        16\n",
       "3    1985     1229     1425         9         8\n",
       "4    1985     1242     1325         3        14"
      ]
     },
     "execution_count": 8,
     "metadata": {},
     "output_type": "execute_result"
    }
   ],
   "source": [
    "Wteams = seeds.rename(columns = {'TeamID':'WTeamID', 'SeedNum':'WSeedNum'})\n",
    "Lteams = seeds.rename(columns = {'TeamID':'LTeamID', 'SeedNum':'LSeedNum'})\n",
    "win_merge = pd.merge(left = tourney, right = Wteams, how = 'left', on = ['Season', 'WTeamID'])\n",
    "data = pd.merge(left = win_merge, right = Lteams, how = 'left', on = ['Season', 'LTeamID'])\n",
    "data.head()"
   ]
  },
  {
   "cell_type": "markdown",
   "metadata": {},
   "source": [
    "As I have said before, I wanted to look at seeding to then determine win/loss predictions. To evaluate seeding, I wanted to use the difference in seeds so I created a column `SeedDifference` that is the difference between the winning teams seed and the losing teams seed. "
   ]
  },
  {
   "cell_type": "code",
   "execution_count": 9,
   "metadata": {},
   "outputs": [
    {
     "data": {
      "text/html": [
       "<div>\n",
       "<style scoped>\n",
       "    .dataframe tbody tr th:only-of-type {\n",
       "        vertical-align: middle;\n",
       "    }\n",
       "\n",
       "    .dataframe tbody tr th {\n",
       "        vertical-align: top;\n",
       "    }\n",
       "\n",
       "    .dataframe thead th {\n",
       "        text-align: right;\n",
       "    }\n",
       "</style>\n",
       "<table border=\"1\" class=\"dataframe\">\n",
       "  <thead>\n",
       "    <tr style=\"text-align: right;\">\n",
       "      <th></th>\n",
       "      <th>Season</th>\n",
       "      <th>WTeamID</th>\n",
       "      <th>LTeamID</th>\n",
       "      <th>WSeedNum</th>\n",
       "      <th>LSeedNum</th>\n",
       "      <th>SeedDifference</th>\n",
       "    </tr>\n",
       "  </thead>\n",
       "  <tbody>\n",
       "    <tr>\n",
       "      <th>0</th>\n",
       "      <td>1985</td>\n",
       "      <td>1116</td>\n",
       "      <td>1234</td>\n",
       "      <td>9</td>\n",
       "      <td>8</td>\n",
       "      <td>1</td>\n",
       "    </tr>\n",
       "    <tr>\n",
       "      <th>1</th>\n",
       "      <td>1985</td>\n",
       "      <td>1120</td>\n",
       "      <td>1345</td>\n",
       "      <td>11</td>\n",
       "      <td>6</td>\n",
       "      <td>5</td>\n",
       "    </tr>\n",
       "    <tr>\n",
       "      <th>2</th>\n",
       "      <td>1985</td>\n",
       "      <td>1207</td>\n",
       "      <td>1250</td>\n",
       "      <td>1</td>\n",
       "      <td>16</td>\n",
       "      <td>-15</td>\n",
       "    </tr>\n",
       "    <tr>\n",
       "      <th>3</th>\n",
       "      <td>1985</td>\n",
       "      <td>1229</td>\n",
       "      <td>1425</td>\n",
       "      <td>9</td>\n",
       "      <td>8</td>\n",
       "      <td>1</td>\n",
       "    </tr>\n",
       "    <tr>\n",
       "      <th>4</th>\n",
       "      <td>1985</td>\n",
       "      <td>1242</td>\n",
       "      <td>1325</td>\n",
       "      <td>3</td>\n",
       "      <td>14</td>\n",
       "      <td>-11</td>\n",
       "    </tr>\n",
       "  </tbody>\n",
       "</table>\n",
       "</div>"
      ],
      "text/plain": [
       "   Season  WTeamID  LTeamID  WSeedNum  LSeedNum  SeedDifference\n",
       "0    1985     1116     1234         9         8               1\n",
       "1    1985     1120     1345        11         6               5\n",
       "2    1985     1207     1250         1        16             -15\n",
       "3    1985     1229     1425         9         8               1\n",
       "4    1985     1242     1325         3        14             -11"
      ]
     },
     "execution_count": 9,
     "metadata": {},
     "output_type": "execute_result"
    }
   ],
   "source": [
    "data['SeedDifference'] = data['WSeedNum'] - data['LSeedNum']\n",
    "data.head()"
   ]
  },
  {
   "cell_type": "markdown",
   "metadata": {},
   "source": [
    "In order to perform a logistic regression, I need a target variable with binary values. I once again created temporary dataframes: `wins` for wins and `losses` for losses. I also, created the target variable `WinLoss` that will be a 1 for a win and a 0 for a loss. So the `WinLoss` column in the wins temporary dataframe is filled with 1s and in the losses temporary dataframe it is filled with 0s. Additionally, I am only keeping the `SeedDifference` column from data as that is the only metric I am focusing on for my regression. After filling the dataframes, I concatenated them into a dataframe called `seed_dataset`."
   ]
  },
  {
   "cell_type": "code",
   "execution_count": 10,
   "metadata": {},
   "outputs": [],
   "source": [
    "wins = pd.DataFrame()\n",
    "wins['SeedDifference'] = data['SeedDifference']\n",
    "wins['WinLoss'] = 1\n",
    "\n",
    "losses = pd.DataFrame()\n",
    "losses['SeedDifference'] = -data['SeedDifference']\n",
    "losses['WinLoss'] = 0"
   ]
  },
  {
   "cell_type": "code",
   "execution_count": 11,
   "metadata": {
    "scrolled": false
   },
   "outputs": [
    {
     "data": {
      "text/html": [
       "<div>\n",
       "<style scoped>\n",
       "    .dataframe tbody tr th:only-of-type {\n",
       "        vertical-align: middle;\n",
       "    }\n",
       "\n",
       "    .dataframe tbody tr th {\n",
       "        vertical-align: top;\n",
       "    }\n",
       "\n",
       "    .dataframe thead th {\n",
       "        text-align: right;\n",
       "    }\n",
       "</style>\n",
       "<table border=\"1\" class=\"dataframe\">\n",
       "  <thead>\n",
       "    <tr style=\"text-align: right;\">\n",
       "      <th></th>\n",
       "      <th>SeedDifference</th>\n",
       "      <th>WinLoss</th>\n",
       "    </tr>\n",
       "  </thead>\n",
       "  <tbody>\n",
       "    <tr>\n",
       "      <th>0</th>\n",
       "      <td>1</td>\n",
       "      <td>1</td>\n",
       "    </tr>\n",
       "    <tr>\n",
       "      <th>1</th>\n",
       "      <td>5</td>\n",
       "      <td>1</td>\n",
       "    </tr>\n",
       "    <tr>\n",
       "      <th>2</th>\n",
       "      <td>-15</td>\n",
       "      <td>1</td>\n",
       "    </tr>\n",
       "    <tr>\n",
       "      <th>3</th>\n",
       "      <td>1</td>\n",
       "      <td>1</td>\n",
       "    </tr>\n",
       "    <tr>\n",
       "      <th>4</th>\n",
       "      <td>-11</td>\n",
       "      <td>1</td>\n",
       "    </tr>\n",
       "  </tbody>\n",
       "</table>\n",
       "</div>"
      ],
      "text/plain": [
       "   SeedDifference  WinLoss\n",
       "0               1        1\n",
       "1               5        1\n",
       "2             -15        1\n",
       "3               1        1\n",
       "4             -11        1"
      ]
     },
     "execution_count": 11,
     "metadata": {},
     "output_type": "execute_result"
    }
   ],
   "source": [
    "seed_dataset = pd.concat([wins,losses])\n",
    "seed_dataset.head()"
   ]
  },
  {
   "cell_type": "markdown",
   "metadata": {},
   "source": [
    "### Building a Regression Model"
   ]
  },
  {
   "cell_type": "markdown",
   "metadata": {},
   "source": [
    "I split the data first into `X` and `y`, and then into training and test sets. I did a default train test split which assigns 25% to the test set and set the `random_state` to 0."
   ]
  },
  {
   "cell_type": "code",
   "execution_count": 12,
   "metadata": {},
   "outputs": [],
   "source": [
    "# Split the data into target and predictors\n",
    "y = seed_dataset['WinLoss']\n",
    "X = seed_dataset.drop(columns=['WinLoss'], axis=1)"
   ]
  },
  {
   "cell_type": "code",
   "execution_count": 13,
   "metadata": {},
   "outputs": [],
   "source": [
    "# Split the data into training and test sets\n",
    "X_train, X_test, y_train, y_test = train_test_split(X, y, random_state=0)"
   ]
  },
  {
   "cell_type": "code",
   "execution_count": 14,
   "metadata": {},
   "outputs": [
    {
     "data": {
      "text/plain": [
       "LogisticRegression(C=1e+16, fit_intercept=False, solver='liblinear')"
      ]
     },
     "execution_count": 14,
     "metadata": {},
     "output_type": "execute_result"
    }
   ],
   "source": [
    "# Instantiate the model\n",
    "logreg = LogisticRegression(fit_intercept = False, C=1e16, solver='liblinear')\n",
    "\n",
    "# Fit the model\n",
    "logreg.fit(X_train,  y_train)"
   ]
  },
  {
   "cell_type": "code",
   "execution_count": 15,
   "metadata": {},
   "outputs": [],
   "source": [
    "# Generate predictions\n",
    "y_hat_train = logreg.predict(X_train)\n",
    "y_hat_test = logreg.predict(X_test)"
   ]
  },
  {
   "cell_type": "markdown",
   "metadata": {},
   "source": [
    "### Evaluating The Logistic Regression Model\n",
    "\n",
    "To evaluate my logistic regression, I first looked at residuals and looked at how many time was the classifier correct on the training set and then how many times it was correct on the test set."
   ]
  },
  {
   "cell_type": "code",
   "execution_count": 16,
   "metadata": {},
   "outputs": [
    {
     "name": "stdout",
     "output_type": "stream",
     "text": [
      "0    2251\n",
      "1     924\n",
      "Name: WinLoss, dtype: int64\n",
      "------------------------------------\n",
      "0    0.708976\n",
      "1    0.291024\n",
      "Name: WinLoss, dtype: float64\n"
     ]
    }
   ],
   "source": [
    "residuals = np.abs(y_train - y_hat_train)\n",
    "print(pd.Series(residuals).value_counts())\n",
    "print('------------------------------------')\n",
    "print(pd.Series(residuals).value_counts(normalize=True))"
   ]
  },
  {
   "cell_type": "code",
   "execution_count": 17,
   "metadata": {},
   "outputs": [
    {
     "name": "stdout",
     "output_type": "stream",
     "text": [
      "0    766\n",
      "1    293\n",
      "Name: WinLoss, dtype: int64\n",
      "------------------------------------\n",
      "0    0.723324\n",
      "1    0.276676\n",
      "Name: WinLoss, dtype: float64\n"
     ]
    }
   ],
   "source": [
    "residuals = np.abs(y_test - y_hat_test)\n",
    "print(pd.Series(residuals).value_counts())\n",
    "print('------------------------------------')\n",
    "print(pd.Series(residuals).value_counts(normalize=True))"
   ]
  },
  {
   "cell_type": "markdown",
   "metadata": {},
   "source": [
    "When looking at the residuals and percentage of accuracy, I can see for the training set there was a 70.9% accuracy by getting 2251 results correct and 924 incorrect. For the test set, it had a slightly higher accuracy of 72.33% getting 766 results correct and 293 incorrect "
   ]
  },
  {
   "cell_type": "markdown",
   "metadata": {},
   "source": [
    "I decided to look at a few other metrics to evaluate my model just to further evaluate it's performance.\n",
    "\n",
    "**Precision** = number of true positives/number of predicted positives\n",
    "\n",
    "**Recall** = number of true positives/number of actual total positives\n",
    "\n",
    "**Accuracy** = (number of true positives + true negatives)/total observations"
   ]
  },
  {
   "cell_type": "code",
   "execution_count": 18,
   "metadata": {},
   "outputs": [
    {
     "name": "stdout",
     "output_type": "stream",
     "text": [
      "Training Precision:  0.7167213114754099\n",
      "Testing Precision:  0.725897920604915\n",
      "\n",
      "\n",
      "\n",
      "Training Recall:  0.689589905362776\n",
      "Testing Recall:  0.7218045112781954\n",
      "\n",
      "\n",
      "\n",
      "Training Accuracy:  0.7089763779527559\n",
      "Testing Accuracy:  0.7233238904627006\n"
     ]
    }
   ],
   "source": [
    "print('Training Precision: ', precision_score(y_train, y_hat_train))\n",
    "print('Testing Precision: ', precision_score(y_test, y_hat_test))\n",
    "print('\\n\\n')\n",
    "\n",
    "print('Training Recall: ', recall_score(y_train, y_hat_train))\n",
    "print('Testing Recall: ', recall_score(y_test, y_hat_test))\n",
    "print('\\n\\n')\n",
    "\n",
    "print('Training Accuracy: ', accuracy_score(y_train, y_hat_train))\n",
    "print('Testing Accuracy: ', accuracy_score(y_test, y_hat_test))"
   ]
  },
  {
   "cell_type": "markdown",
   "metadata": {},
   "source": [
    "The final metric I looked at was a confusion matrix which essentially just broke down the values that were already given in the residuals to true positives, true negatives, false positives, false negatives. "
   ]
  },
  {
   "cell_type": "code",
   "execution_count": 19,
   "metadata": {},
   "outputs": [
    {
     "name": "stdout",
     "output_type": "stream",
     "text": [
      "Train Confusion Matrix:\n",
      " [[1158  432]\n",
      " [ 492 1093]]\n",
      "\n",
      "\n",
      "\n",
      "Test Confusion Matrix:\n",
      " [[382 145]\n",
      " [148 384]]\n"
     ]
    }
   ],
   "source": [
    "# Print confusion matrix\n",
    "cnf_matrix_train = confusion_matrix(y_train, y_hat_train)\n",
    "print('Train Confusion Matrix:\\n', cnf_matrix_train)\n",
    "print('\\n\\n')\n",
    "\n",
    "cnf_matrix_test = confusion_matrix(y_test, y_hat_test)\n",
    "print('Test Confusion Matrix:\\n', cnf_matrix_test)"
   ]
  },
  {
   "cell_type": "markdown",
   "metadata": {},
   "source": [
    "### Putting it all together\n",
    "\n",
    "After building, running and evaluating my model, I decided that a model with an average accuracy of about 70% was a decent model (and I didn't have that much time for this project to play around enough), I wanted to put the predictions from the regression model back into the original dataset `data`. I first used `predict_proba` to get the predictions from the whole matrix before the split. I created a column `WinPred` for the probability of the higher seeded team winning and `LossPred` for the probabilities of the higher seed team losing. Since the `seed_dataset` used for regression was a concatenate temporary dataset of a dataset of wins and a dataset of losses - the seed dataset has duplicate entries. The first half of the entries have the probabilities of the winning team winning and then the probabilities of the winning team losing. The second half of the entries are the probabilities of the losing team winning and the losing team losing - essentially the first half flipped. Therefore, to merge the probabilities with `data`, I only kept the first half of the data from `seed_dataset` and then merged them together using the common column `SeedDifference`."
   ]
  },
  {
   "cell_type": "code",
   "execution_count": 20,
   "metadata": {},
   "outputs": [
    {
     "data": {
      "text/html": [
       "<div>\n",
       "<style scoped>\n",
       "    .dataframe tbody tr th:only-of-type {\n",
       "        vertical-align: middle;\n",
       "    }\n",
       "\n",
       "    .dataframe tbody tr th {\n",
       "        vertical-align: top;\n",
       "    }\n",
       "\n",
       "    .dataframe thead th {\n",
       "        text-align: right;\n",
       "    }\n",
       "</style>\n",
       "<table border=\"1\" class=\"dataframe\">\n",
       "  <thead>\n",
       "    <tr style=\"text-align: right;\">\n",
       "      <th></th>\n",
       "      <th>SeedDifference</th>\n",
       "      <th>WinLoss</th>\n",
       "      <th>WinPred</th>\n",
       "      <th>LossPred</th>\n",
       "    </tr>\n",
       "  </thead>\n",
       "  <tbody>\n",
       "    <tr>\n",
       "      <th>0</th>\n",
       "      <td>1</td>\n",
       "      <td>1</td>\n",
       "      <td>0.541191</td>\n",
       "      <td>0.458809</td>\n",
       "    </tr>\n",
       "    <tr>\n",
       "      <th>1</th>\n",
       "      <td>5</td>\n",
       "      <td>1</td>\n",
       "      <td>0.695443</td>\n",
       "      <td>0.304557</td>\n",
       "    </tr>\n",
       "    <tr>\n",
       "      <th>2</th>\n",
       "      <td>-15</td>\n",
       "      <td>1</td>\n",
       "      <td>0.077481</td>\n",
       "      <td>0.922519</td>\n",
       "    </tr>\n",
       "    <tr>\n",
       "      <th>3</th>\n",
       "      <td>1</td>\n",
       "      <td>1</td>\n",
       "      <td>0.541191</td>\n",
       "      <td>0.458809</td>\n",
       "    </tr>\n",
       "    <tr>\n",
       "      <th>4</th>\n",
       "      <td>-11</td>\n",
       "      <td>1</td>\n",
       "      <td>0.139852</td>\n",
       "      <td>0.860148</td>\n",
       "    </tr>\n",
       "  </tbody>\n",
       "</table>\n",
       "</div>"
      ],
      "text/plain": [
       "   SeedDifference  WinLoss   WinPred  LossPred\n",
       "0               1        1  0.541191  0.458809\n",
       "1               5        1  0.695443  0.304557\n",
       "2             -15        1  0.077481  0.922519\n",
       "3               1        1  0.541191  0.458809\n",
       "4             -11        1  0.139852  0.860148"
      ]
     },
     "execution_count": 20,
     "metadata": {},
     "output_type": "execute_result"
    }
   ],
   "source": [
    "seed_dataset['WinPred'] = [x[0] for x in logreg.predict_proba(X)]\n",
    "seed_dataset['LossPred'] = [x[1] for x in logreg.predict_proba(X)]\n",
    "seed_dataset.head()"
   ]
  },
  {
   "cell_type": "code",
   "execution_count": 21,
   "metadata": {},
   "outputs": [],
   "source": [
    "seed_dataset = seed_dataset.iloc[0:2117]"
   ]
  },
  {
   "cell_type": "code",
   "execution_count": 22,
   "metadata": {},
   "outputs": [
    {
     "data": {
      "text/html": [
       "<div>\n",
       "<style scoped>\n",
       "    .dataframe tbody tr th:only-of-type {\n",
       "        vertical-align: middle;\n",
       "    }\n",
       "\n",
       "    .dataframe tbody tr th {\n",
       "        vertical-align: top;\n",
       "    }\n",
       "\n",
       "    .dataframe thead th {\n",
       "        text-align: right;\n",
       "    }\n",
       "</style>\n",
       "<table border=\"1\" class=\"dataframe\">\n",
       "  <thead>\n",
       "    <tr style=\"text-align: right;\">\n",
       "      <th></th>\n",
       "      <th>Season</th>\n",
       "      <th>WTeamID</th>\n",
       "      <th>LTeamID</th>\n",
       "      <th>WSeedNum</th>\n",
       "      <th>LSeedNum</th>\n",
       "      <th>SeedDifference</th>\n",
       "      <th>WinPred</th>\n",
       "      <th>LossPred</th>\n",
       "    </tr>\n",
       "  </thead>\n",
       "  <tbody>\n",
       "    <tr>\n",
       "      <th>0</th>\n",
       "      <td>1985</td>\n",
       "      <td>1116</td>\n",
       "      <td>1234</td>\n",
       "      <td>9</td>\n",
       "      <td>8</td>\n",
       "      <td>1</td>\n",
       "      <td>0.541191</td>\n",
       "      <td>0.458809</td>\n",
       "    </tr>\n",
       "    <tr>\n",
       "      <th>1</th>\n",
       "      <td>1985</td>\n",
       "      <td>1116</td>\n",
       "      <td>1234</td>\n",
       "      <td>9</td>\n",
       "      <td>8</td>\n",
       "      <td>1</td>\n",
       "      <td>0.541191</td>\n",
       "      <td>0.458809</td>\n",
       "    </tr>\n",
       "    <tr>\n",
       "      <th>2</th>\n",
       "      <td>1985</td>\n",
       "      <td>1116</td>\n",
       "      <td>1234</td>\n",
       "      <td>9</td>\n",
       "      <td>8</td>\n",
       "      <td>1</td>\n",
       "      <td>0.541191</td>\n",
       "      <td>0.458809</td>\n",
       "    </tr>\n",
       "    <tr>\n",
       "      <th>3</th>\n",
       "      <td>1985</td>\n",
       "      <td>1116</td>\n",
       "      <td>1234</td>\n",
       "      <td>9</td>\n",
       "      <td>8</td>\n",
       "      <td>1</td>\n",
       "      <td>0.541191</td>\n",
       "      <td>0.458809</td>\n",
       "    </tr>\n",
       "    <tr>\n",
       "      <th>4</th>\n",
       "      <td>1985</td>\n",
       "      <td>1116</td>\n",
       "      <td>1234</td>\n",
       "      <td>9</td>\n",
       "      <td>8</td>\n",
       "      <td>1</td>\n",
       "      <td>0.541191</td>\n",
       "      <td>0.458809</td>\n",
       "    </tr>\n",
       "  </tbody>\n",
       "</table>\n",
       "</div>"
      ],
      "text/plain": [
       "   Season  WTeamID  LTeamID  WSeedNum  LSeedNum  SeedDifference   WinPred  \\\n",
       "0    1985     1116     1234         9         8               1  0.541191   \n",
       "1    1985     1116     1234         9         8               1  0.541191   \n",
       "2    1985     1116     1234         9         8               1  0.541191   \n",
       "3    1985     1116     1234         9         8               1  0.541191   \n",
       "4    1985     1116     1234         9         8               1  0.541191   \n",
       "\n",
       "   LossPred  \n",
       "0  0.458809  \n",
       "1  0.458809  \n",
       "2  0.458809  \n",
       "3  0.458809  \n",
       "4  0.458809  "
      ]
     },
     "execution_count": 22,
     "metadata": {},
     "output_type": "execute_result"
    }
   ],
   "source": [
    "final_seed_dataset = pd.merge(left = data, right = seed_dataset, how = 'left', on = ['SeedDifference'])\n",
    "final_seed_dataset.drop('WinLoss', inplace=True, axis=1)\n",
    "final_seed_dataset.head()"
   ]
  },
  {
   "cell_type": "markdown",
   "metadata": {},
   "source": [
    "Finally, I wanted to be able to visualize this in some way so plotted a simplete scatter plot of `SeedDifference` and `WinPred`."
   ]
  },
  {
   "cell_type": "code",
   "execution_count": 23,
   "metadata": {},
   "outputs": [
    {
     "data": {
      "image/png": "[encoded data removed]",
      "text/plain": [
       "<Figure size 432x288 with 1 Axes>"
      ]
     },
     "metadata": {
      "needs_background": "light"
     },
     "output_type": "display_data"
    }
   ],
   "source": [
    "plt.scatter(final_seed_dataset['SeedDifference'], final_seed_dataset['WinPred']);"
   ]
  },
  {
   "cell_type": "markdown",
   "metadata": {},
   "source": [
    "# Average Rank"
   ]
  },
  {
   "cell_type": "markdown",
   "metadata": {},
   "source": [
    "Initially, I was planning on working with seeds and doing a regression based on SeedDifference. When I first created the model, it wasn't giving conclusive or great results. I thought it was based on the data I was using so I decided to look at the different data that was provided to the Kaggle Data Competition and found a dataset containing rankings. Once I went through and did a model with ranking data as well, I realized I was making a mistake with the way I was preparing the data for the regression and went and looked at my seed based regression and was able to fix my mistake. But I decided to continue with average rank data as well to continue to explore."
   ]
  },
  {
   "cell_type": "markdown",
   "metadata": {},
   "source": [
    "### Data Cleaning and Preparation\n",
    "The data used for rankings was **MasseyOrdinals**. This zip file contains a large CSV file, listing out rankings (e.g. 1, 2, 3, ..., N) of teams going back to the 2002-2003 season, under a large number of different ranking system methodologies. The information was gathered by Kenneth Massey and provided on his College Basketball Ranking Composite page. This was a very large dataset and I was unable to load the entire csv to github. Therefore, I had decided to limit the dataset by only have the final ranking from each season which means the `max(RankingDayNum)` which is `133`. I did this in Excel and then loaded the Final dataset into Github. \n",
    "\n",
    "**MasseyOrdinalsFinal.csv**: includes Season, RankingDayNum (ranking up until that day), SystemName (what district ranking system rank is from), TeamID, OrdinalRank)"
   ]
  },
  {
   "cell_type": "code",
   "execution_count": 24,
   "metadata": {
    "scrolled": true
   },
   "outputs": [
    {
     "data": {
      "text/html": [
       "<div>\n",
       "<style scoped>\n",
       "    .dataframe tbody tr th:only-of-type {\n",
       "        vertical-align: middle;\n",
       "    }\n",
       "\n",
       "    .dataframe tbody tr th {\n",
       "        vertical-align: top;\n",
       "    }\n",
       "\n",
       "    .dataframe thead th {\n",
       "        text-align: right;\n",
       "    }\n",
       "</style>\n",
       "<table border=\"1\" class=\"dataframe\">\n",
       "  <thead>\n",
       "    <tr style=\"text-align: right;\">\n",
       "      <th></th>\n",
       "      <th>Season</th>\n",
       "      <th>RankingDayNum</th>\n",
       "      <th>SystemName</th>\n",
       "      <th>TeamID</th>\n",
       "      <th>OrdinalRank</th>\n",
       "    </tr>\n",
       "  </thead>\n",
       "  <tbody>\n",
       "    <tr>\n",
       "      <th>0</th>\n",
       "      <td>2003</td>\n",
       "      <td>133</td>\n",
       "      <td>AP</td>\n",
       "      <td>1112</td>\n",
       "      <td>2</td>\n",
       "    </tr>\n",
       "    <tr>\n",
       "      <th>1</th>\n",
       "      <td>2003</td>\n",
       "      <td>133</td>\n",
       "      <td>AP</td>\n",
       "      <td>1163</td>\n",
       "      <td>23</td>\n",
       "    </tr>\n",
       "    <tr>\n",
       "      <th>2</th>\n",
       "      <td>2003</td>\n",
       "      <td>133</td>\n",
       "      <td>AP</td>\n",
       "      <td>1166</td>\n",
       "      <td>15</td>\n",
       "    </tr>\n",
       "    <tr>\n",
       "      <th>3</th>\n",
       "      <td>2003</td>\n",
       "      <td>133</td>\n",
       "      <td>AP</td>\n",
       "      <td>1173</td>\n",
       "      <td>16</td>\n",
       "    </tr>\n",
       "    <tr>\n",
       "      <th>4</th>\n",
       "      <td>2003</td>\n",
       "      <td>133</td>\n",
       "      <td>AP</td>\n",
       "      <td>1181</td>\n",
       "      <td>7</td>\n",
       "    </tr>\n",
       "  </tbody>\n",
       "</table>\n",
       "</div>"
      ],
      "text/plain": [
       "   Season  RankingDayNum SystemName  TeamID  OrdinalRank\n",
       "0    2003            133         AP    1112            2\n",
       "1    2003            133         AP    1163           23\n",
       "2    2003            133         AP    1166           15\n",
       "3    2003            133         AP    1173           16\n",
       "4    2003            133         AP    1181            7"
      ]
     },
     "execution_count": 24,
     "metadata": {},
     "output_type": "execute_result"
    }
   ],
   "source": [
    "rankings = pd.read_csv('data/MasseyOrdinalsFinal.csv')\n",
    "rankings.head()"
   ]
  },
  {
   "cell_type": "markdown",
   "metadata": {},
   "source": [
    "Since there is data over so many seasons, I wanted to use the average rank of a team going into the March Madness tournament. I found the average rankings by grouping by `Season` and `TeamID` and taking the average mean of `OrdinalRank` from the different ranking systems provided. I then replaced the column `OrdinalRank` with `AvgRank`."
   ]
  },
  {
   "cell_type": "code",
   "execution_count": 25,
   "metadata": {},
   "outputs": [
    {
     "data": {
      "text/html": [
       "<div>\n",
       "<style scoped>\n",
       "    .dataframe tbody tr th:only-of-type {\n",
       "        vertical-align: middle;\n",
       "    }\n",
       "\n",
       "    .dataframe tbody tr th {\n",
       "        vertical-align: top;\n",
       "    }\n",
       "\n",
       "    .dataframe thead th {\n",
       "        text-align: right;\n",
       "    }\n",
       "</style>\n",
       "<table border=\"1\" class=\"dataframe\">\n",
       "  <thead>\n",
       "    <tr style=\"text-align: right;\">\n",
       "      <th></th>\n",
       "      <th>Season</th>\n",
       "      <th>TeamID</th>\n",
       "      <th>AvgRank</th>\n",
       "    </tr>\n",
       "  </thead>\n",
       "  <tbody>\n",
       "    <tr>\n",
       "      <th>0</th>\n",
       "      <td>2003</td>\n",
       "      <td>1102</td>\n",
       "      <td>156.03125</td>\n",
       "    </tr>\n",
       "    <tr>\n",
       "      <th>1</th>\n",
       "      <td>2003</td>\n",
       "      <td>1103</td>\n",
       "      <td>168.00000</td>\n",
       "    </tr>\n",
       "    <tr>\n",
       "      <th>2</th>\n",
       "      <td>2003</td>\n",
       "      <td>1104</td>\n",
       "      <td>38.03125</td>\n",
       "    </tr>\n",
       "    <tr>\n",
       "      <th>3</th>\n",
       "      <td>2003</td>\n",
       "      <td>1105</td>\n",
       "      <td>308.96875</td>\n",
       "    </tr>\n",
       "    <tr>\n",
       "      <th>4</th>\n",
       "      <td>2003</td>\n",
       "      <td>1106</td>\n",
       "      <td>262.68750</td>\n",
       "    </tr>\n",
       "  </tbody>\n",
       "</table>\n",
       "</div>"
      ],
      "text/plain": [
       "   Season  TeamID    AvgRank\n",
       "0    2003    1102  156.03125\n",
       "1    2003    1103  168.00000\n",
       "2    2003    1104   38.03125\n",
       "3    2003    1105  308.96875\n",
       "4    2003    1106  262.68750"
      ]
     },
     "execution_count": 25,
     "metadata": {},
     "output_type": "execute_result"
    }
   ],
   "source": [
    "rankings = rankings.groupby(['Season', 'TeamID'])['OrdinalRank'].mean()\n",
    "rankings = rankings.reset_index()\n",
    "rankings.rename(columns={'OrdinalRank':'AvgRank'}, inplace=True)\n",
    "rankings.head()"
   ]
  },
  {
   "cell_type": "markdown",
   "metadata": {},
   "source": [
    "Similar to what I did with the seeding, I combined the `rankings` data with the `tourney` data so I can now see the average ranks of the winning and losing team for each game. To do this, I created two new dataframes: `Wranks` for rankings of winning teams and `Lranks` for rankings of losing teams. I then renamed the `teamID` column to `WTeamID` for the `Wranks` dataframe and `LTeamID` for the `Lranks` dataframe. I did the name for the `AvgRank` column as well: `WAvgRank` for `Wranks` and `LAvgRank` for `Lranks`. Once the column names matched with all of the dataframes, I first merged the `tourney` dataframe with the `Wranks` using the commom column names of `Season` and `WteamID` and stored it in a temporary dataframe named `rank_merge`. I then merged the temporary dataframe `rank_merge` with the `Lranks` dataframe on the common column names `Season` and `LTeamID` to finally created a merged dataframe: `tourney_rankings`."
   ]
  },
  {
   "cell_type": "code",
   "execution_count": 26,
   "metadata": {},
   "outputs": [
    {
     "data": {
      "text/html": [
       "<div>\n",
       "<style scoped>\n",
       "    .dataframe tbody tr th:only-of-type {\n",
       "        vertical-align: middle;\n",
       "    }\n",
       "\n",
       "    .dataframe tbody tr th {\n",
       "        vertical-align: top;\n",
       "    }\n",
       "\n",
       "    .dataframe thead th {\n",
       "        text-align: right;\n",
       "    }\n",
       "</style>\n",
       "<table border=\"1\" class=\"dataframe\">\n",
       "  <thead>\n",
       "    <tr style=\"text-align: right;\">\n",
       "      <th></th>\n",
       "      <th>Season</th>\n",
       "      <th>WTeamID</th>\n",
       "      <th>LTeamID</th>\n",
       "      <th>WAvgRank</th>\n",
       "      <th>LAvgRank</th>\n",
       "    </tr>\n",
       "  </thead>\n",
       "  <tbody>\n",
       "    <tr>\n",
       "      <th>1136</th>\n",
       "      <td>2003</td>\n",
       "      <td>1421</td>\n",
       "      <td>1411</td>\n",
       "      <td>240.343750</td>\n",
       "      <td>239.281250</td>\n",
       "    </tr>\n",
       "    <tr>\n",
       "      <th>1137</th>\n",
       "      <td>2003</td>\n",
       "      <td>1112</td>\n",
       "      <td>1436</td>\n",
       "      <td>2.676471</td>\n",
       "      <td>153.125000</td>\n",
       "    </tr>\n",
       "    <tr>\n",
       "      <th>1138</th>\n",
       "      <td>2003</td>\n",
       "      <td>1113</td>\n",
       "      <td>1272</td>\n",
       "      <td>36.000000</td>\n",
       "      <td>21.705882</td>\n",
       "    </tr>\n",
       "    <tr>\n",
       "      <th>1139</th>\n",
       "      <td>2003</td>\n",
       "      <td>1141</td>\n",
       "      <td>1166</td>\n",
       "      <td>45.687500</td>\n",
       "      <td>20.735294</td>\n",
       "    </tr>\n",
       "    <tr>\n",
       "      <th>1140</th>\n",
       "      <td>2003</td>\n",
       "      <td>1143</td>\n",
       "      <td>1301</td>\n",
       "      <td>36.406250</td>\n",
       "      <td>50.312500</td>\n",
       "    </tr>\n",
       "  </tbody>\n",
       "</table>\n",
       "</div>"
      ],
      "text/plain": [
       "      Season  WTeamID  LTeamID    WAvgRank    LAvgRank\n",
       "1136    2003     1421     1411  240.343750  239.281250\n",
       "1137    2003     1112     1436    2.676471  153.125000\n",
       "1138    2003     1113     1272   36.000000   21.705882\n",
       "1139    2003     1141     1166   45.687500   20.735294\n",
       "1140    2003     1143     1301   36.406250   50.312500"
      ]
     },
     "execution_count": 26,
     "metadata": {},
     "output_type": "execute_result"
    }
   ],
   "source": [
    "Wranks = rankings.rename(columns = {'TeamID':'WTeamID', 'AvgRank':'WAvgRank'})\n",
    "Lranks = rankings.rename(columns = {'TeamID':'LTeamID', 'AvgRank':'LAvgRank'})\n",
    "rank_merge = pd.merge(left = tourney, right = Wranks, how = 'left', on = ['Season', 'WTeamID'])\n",
    "tourney_rankings = pd.merge(left = rank_merge, right = Lranks, how = 'left', on = ['Season', 'LTeamID'])\n",
    "tourney_rankings = tourney_rankings.dropna()\n",
    "tourney_rankings.head()"
   ]
  },
  {
   "cell_type": "markdown",
   "metadata": {},
   "source": [
    "I created a column `RankDifference` to show the difference of rankings between the winning team and losing team and use that as a the metric in my regression model."
   ]
  },
  {
   "cell_type": "code",
   "execution_count": 27,
   "metadata": {},
   "outputs": [
    {
     "data": {
      "text/html": [
       "<div>\n",
       "<style scoped>\n",
       "    .dataframe tbody tr th:only-of-type {\n",
       "        vertical-align: middle;\n",
       "    }\n",
       "\n",
       "    .dataframe tbody tr th {\n",
       "        vertical-align: top;\n",
       "    }\n",
       "\n",
       "    .dataframe thead th {\n",
       "        text-align: right;\n",
       "    }\n",
       "</style>\n",
       "<table border=\"1\" class=\"dataframe\">\n",
       "  <thead>\n",
       "    <tr style=\"text-align: right;\">\n",
       "      <th></th>\n",
       "      <th>Season</th>\n",
       "      <th>WTeamID</th>\n",
       "      <th>LTeamID</th>\n",
       "      <th>WAvgRank</th>\n",
       "      <th>LAvgRank</th>\n",
       "      <th>RankDifference</th>\n",
       "    </tr>\n",
       "  </thead>\n",
       "  <tbody>\n",
       "    <tr>\n",
       "      <th>1136</th>\n",
       "      <td>2003</td>\n",
       "      <td>1421</td>\n",
       "      <td>1411</td>\n",
       "      <td>240.343750</td>\n",
       "      <td>239.281250</td>\n",
       "      <td>1.062500</td>\n",
       "    </tr>\n",
       "    <tr>\n",
       "      <th>1137</th>\n",
       "      <td>2003</td>\n",
       "      <td>1112</td>\n",
       "      <td>1436</td>\n",
       "      <td>2.676471</td>\n",
       "      <td>153.125000</td>\n",
       "      <td>-150.448529</td>\n",
       "    </tr>\n",
       "    <tr>\n",
       "      <th>1138</th>\n",
       "      <td>2003</td>\n",
       "      <td>1113</td>\n",
       "      <td>1272</td>\n",
       "      <td>36.000000</td>\n",
       "      <td>21.705882</td>\n",
       "      <td>14.294118</td>\n",
       "    </tr>\n",
       "    <tr>\n",
       "      <th>1139</th>\n",
       "      <td>2003</td>\n",
       "      <td>1141</td>\n",
       "      <td>1166</td>\n",
       "      <td>45.687500</td>\n",
       "      <td>20.735294</td>\n",
       "      <td>24.952206</td>\n",
       "    </tr>\n",
       "    <tr>\n",
       "      <th>1140</th>\n",
       "      <td>2003</td>\n",
       "      <td>1143</td>\n",
       "      <td>1301</td>\n",
       "      <td>36.406250</td>\n",
       "      <td>50.312500</td>\n",
       "      <td>-13.906250</td>\n",
       "    </tr>\n",
       "  </tbody>\n",
       "</table>\n",
       "</div>"
      ],
      "text/plain": [
       "      Season  WTeamID  LTeamID    WAvgRank    LAvgRank  RankDifference\n",
       "1136    2003     1421     1411  240.343750  239.281250        1.062500\n",
       "1137    2003     1112     1436    2.676471  153.125000     -150.448529\n",
       "1138    2003     1113     1272   36.000000   21.705882       14.294118\n",
       "1139    2003     1141     1166   45.687500   20.735294       24.952206\n",
       "1140    2003     1143     1301   36.406250   50.312500      -13.906250"
      ]
     },
     "execution_count": 27,
     "metadata": {},
     "output_type": "execute_result"
    }
   ],
   "source": [
    "tourney_rankings['RankDifference'] = tourney_rankings['WAvgRank'] - tourney_rankings['LAvgRank']\n",
    "tourney_rankings.head()"
   ]
  },
  {
   "cell_type": "markdown",
   "metadata": {},
   "source": [
    "In order to perform a logistic regression, I need a target variable with binary values. Similar to what I did with seeding, I once again created temporary dataframes: `rank_wins` for wins and `rank_losses` for losses. I also, created the target variable `WinLoss` that will be a 1 for a win and a 0 for a loss. So the `WinLoss` column in the wins temporary dataframe is filled with 1s and in the losses temporary dataframe it is filled with 0s. Additionally, I am only keeping the `RankDifference` column from data as that is the only metric I am focusing on for my regression. After filling the dataframes, I concatenated them into a dataframe called `rank_dataset`."
   ]
  },
  {
   "cell_type": "code",
   "execution_count": 28,
   "metadata": {},
   "outputs": [],
   "source": [
    "rank_wins = pd.DataFrame()\n",
    "rank_wins['RankDifference'] = tourney_rankings['RankDifference']\n",
    "rank_wins['WinLoss'] = 1\n",
    "\n",
    "rank_losses = pd.DataFrame()\n",
    "rank_losses['RankDifference'] = -tourney_rankings['RankDifference']\n",
    "rank_losses['WinLoss'] = 0"
   ]
  },
  {
   "cell_type": "code",
   "execution_count": 29,
   "metadata": {},
   "outputs": [
    {
     "data": {
      "text/html": [
       "<div>\n",
       "<style scoped>\n",
       "    .dataframe tbody tr th:only-of-type {\n",
       "        vertical-align: middle;\n",
       "    }\n",
       "\n",
       "    .dataframe tbody tr th {\n",
       "        vertical-align: top;\n",
       "    }\n",
       "\n",
       "    .dataframe thead th {\n",
       "        text-align: right;\n",
       "    }\n",
       "</style>\n",
       "<table border=\"1\" class=\"dataframe\">\n",
       "  <thead>\n",
       "    <tr style=\"text-align: right;\">\n",
       "      <th></th>\n",
       "      <th>RankDifference</th>\n",
       "      <th>WinLoss</th>\n",
       "    </tr>\n",
       "  </thead>\n",
       "  <tbody>\n",
       "    <tr>\n",
       "      <th>1136</th>\n",
       "      <td>1.062500</td>\n",
       "      <td>1</td>\n",
       "    </tr>\n",
       "    <tr>\n",
       "      <th>1137</th>\n",
       "      <td>-150.448529</td>\n",
       "      <td>1</td>\n",
       "    </tr>\n",
       "    <tr>\n",
       "      <th>1138</th>\n",
       "      <td>14.294118</td>\n",
       "      <td>1</td>\n",
       "    </tr>\n",
       "    <tr>\n",
       "      <th>1139</th>\n",
       "      <td>24.952206</td>\n",
       "      <td>1</td>\n",
       "    </tr>\n",
       "    <tr>\n",
       "      <th>1140</th>\n",
       "      <td>-13.906250</td>\n",
       "      <td>1</td>\n",
       "    </tr>\n",
       "  </tbody>\n",
       "</table>\n",
       "</div>"
      ],
      "text/plain": [
       "      RankDifference  WinLoss\n",
       "1136        1.062500        1\n",
       "1137     -150.448529        1\n",
       "1138       14.294118        1\n",
       "1139       24.952206        1\n",
       "1140      -13.906250        1"
      ]
     },
     "execution_count": 29,
     "metadata": {},
     "output_type": "execute_result"
    }
   ],
   "source": [
    "rank_dataset = pd.concat([rank_wins,rank_losses])\n",
    "rank_dataset.head()"
   ]
  },
  {
   "cell_type": "markdown",
   "metadata": {},
   "source": [
    "### Building a Logistic Regression Model"
   ]
  },
  {
   "cell_type": "markdown",
   "metadata": {},
   "source": [
    "I split the data first into `X` and `y`, and then into training and test sets. I did a default train test split which assigns 25% to the test set and set the `random_state` to 0."
   ]
  },
  {
   "cell_type": "code",
   "execution_count": 30,
   "metadata": {},
   "outputs": [],
   "source": [
    "# Split the data into target and predictors\n",
    "y2 = rank_dataset['WinLoss']\n",
    "X2 = rank_dataset.drop(columns=['WinLoss'], axis=1)"
   ]
  },
  {
   "cell_type": "code",
   "execution_count": 31,
   "metadata": {},
   "outputs": [],
   "source": [
    "# Split the data into training and test sets\n",
    "X_train2, X_test2, y_train2, y_test2 = train_test_split(X2, y2, random_state=0)"
   ]
  },
  {
   "cell_type": "code",
   "execution_count": 32,
   "metadata": {},
   "outputs": [
    {
     "data": {
      "text/plain": [
       "LogisticRegression(C=1000000000000.0, fit_intercept=False, solver='liblinear')"
      ]
     },
     "execution_count": 32,
     "metadata": {},
     "output_type": "execute_result"
    }
   ],
   "source": [
    "# Instantiate the model\n",
    "logreg2 = LogisticRegression(fit_intercept = False, C=1e12, solver='liblinear')\n",
    "\n",
    "# Fit the model\n",
    "logreg2.fit(X_train2,  y_train2)"
   ]
  },
  {
   "cell_type": "code",
   "execution_count": 33,
   "metadata": {},
   "outputs": [],
   "source": [
    "# Generate predictions\n",
    "y_hat_train2 = logreg2.predict(X_train2)\n",
    "y_hat_test2 = logreg2.predict(X_test2)"
   ]
  },
  {
   "cell_type": "markdown",
   "metadata": {},
   "source": [
    "### Evaluating The Logistic Regression Model\n",
    "\n",
    "To evaluate my logistic regression, I first looked at residuals and looked at how many time was the classifier correct on the training set and then how many times it was correct on the test set."
   ]
  },
  {
   "cell_type": "code",
   "execution_count": 34,
   "metadata": {},
   "outputs": [
    {
     "name": "stdout",
     "output_type": "stream",
     "text": [
      "0    1064\n",
      "1     407\n",
      "Name: WinLoss, dtype: int64\n",
      "------------------------------------\n",
      "0    0.723317\n",
      "1    0.276683\n",
      "Name: WinLoss, dtype: float64\n"
     ]
    }
   ],
   "source": [
    "residuals = np.abs(y_train2 - y_hat_train2)\n",
    "print(pd.Series(residuals).value_counts())\n",
    "print('------------------------------------')\n",
    "print(pd.Series(residuals).value_counts(normalize=True))"
   ]
  },
  {
   "cell_type": "code",
   "execution_count": 35,
   "metadata": {},
   "outputs": [
    {
     "name": "stdout",
     "output_type": "stream",
     "text": [
      "0    344\n",
      "1    147\n",
      "Name: WinLoss, dtype: int64\n",
      "------------------------------------\n",
      "0    0.700611\n",
      "1    0.299389\n",
      "Name: WinLoss, dtype: float64\n"
     ]
    }
   ],
   "source": [
    "residuals = np.abs(y_test2 - y_hat_test2)\n",
    "print(pd.Series(residuals).value_counts())\n",
    "print('------------------------------------')\n",
    "print(pd.Series(residuals).value_counts(normalize=True))"
   ]
  },
  {
   "cell_type": "markdown",
   "metadata": {},
   "source": [
    "When looking at the residuals and percentage of accuracy, I can see for the training set there was a 72.3% accuracy by getting 1064 results correct and 407 incorrect. For the test set, it had a slightly lower accuracy of 70.06% getting 344 results correct and 147 incorrect "
   ]
  },
  {
   "cell_type": "markdown",
   "metadata": {},
   "source": [
    "Similar to above, I also looking at precision, recall, accuracy and confusion matrices to get a better look at how the model performed."
   ]
  },
  {
   "cell_type": "code",
   "execution_count": 36,
   "metadata": {},
   "outputs": [
    {
     "name": "stdout",
     "output_type": "stream",
     "text": [
      "Training Precision:  0.7208053691275168\n",
      "Testing Precision:  0.7076271186440678\n",
      "\n",
      "\n",
      "\n",
      "Training Recall:  0.7296195652173914\n",
      "Testing Recall:  0.6816326530612244\n",
      "\n",
      "\n",
      "\n",
      "Training Accuracy:  0.7233174711080897\n",
      "Testing Accuracy:  0.7006109979633401\n",
      "\n",
      "\n",
      "\n"
     ]
    }
   ],
   "source": [
    "print('Training Precision: ', precision_score(y_train2, y_hat_train2))\n",
    "print('Testing Precision: ', precision_score(y_test2, y_hat_test2))\n",
    "print('\\n\\n')\n",
    "\n",
    "print('Training Recall: ', recall_score(y_train2, y_hat_train2))\n",
    "print('Testing Recall: ', recall_score(y_test2, y_hat_test2))\n",
    "print('\\n\\n')\n",
    "\n",
    "print('Training Accuracy: ', accuracy_score(y_train2, y_hat_train2))\n",
    "print('Testing Accuracy: ', accuracy_score(y_test2, y_hat_test2))\n",
    "print('\\n\\n')"
   ]
  },
  {
   "cell_type": "code",
   "execution_count": 37,
   "metadata": {},
   "outputs": [
    {
     "name": "stdout",
     "output_type": "stream",
     "text": [
      "Train Confusion Matrix:\n",
      " [[527 208]\n",
      " [199 537]]\n",
      "\n",
      "\n",
      "\n",
      "Test Confusion Matrix:\n",
      " [[177  69]\n",
      " [ 78 167]]\n"
     ]
    }
   ],
   "source": [
    "# Print confusion matrix\n",
    "rank_cnf_matrix_train = confusion_matrix(y_train2, y_hat_train2)\n",
    "print('Train Confusion Matrix:\\n', rank_cnf_matrix_train)\n",
    "print('\\n\\n')\n",
    "\n",
    "rank_cnf_matrix_test = confusion_matrix(y_test2, y_hat_test2)\n",
    "print('Test Confusion Matrix:\\n', rank_cnf_matrix_test)"
   ]
  },
  {
   "cell_type": "markdown",
   "metadata": {},
   "source": [
    "### Putting it all together\n",
    "\n",
    "After building, running and evaluating my model, I decided that a model with an average accuracy of about 71% was a decent model to get predictions from. I would say that the model with ranking difference did slightly better than the seed difference. But the seeding model performed slightly better on the testing set versus training set whereas it was flipped for the ranking model. Once again, I wanted to put the predictions from the regression model back into the original dataset `final_dataset`. I first used `predict_proba` to get the predictions from the whole matrix before the split. I created a column `WinPred` for the probability of the higher average ranked team winning and `LossPred` for the probabilities of the lower average ranked team winning. Since the `rank_dataset` used for regression was a concatenate temporary dataset of a dataset of wins and a dataset of losses - the `rank_dataset` has duplicate entries. The first half of the entries have the probabilities of the winning team winning and then the probabilities of the winning team losing. The second half of the entries are the probabilities of the losing team winning and the losing team losing - essentially the first half flipped. Therefore, to merge the probabilities with `final_dataset`, I only kept the first half of the data from `rank_dataset` and then merged them together using the common column `RankDifference`."
   ]
  },
  {
   "cell_type": "code",
   "execution_count": 38,
   "metadata": {},
   "outputs": [
    {
     "data": {
      "text/html": [
       "<div>\n",
       "<style scoped>\n",
       "    .dataframe tbody tr th:only-of-type {\n",
       "        vertical-align: middle;\n",
       "    }\n",
       "\n",
       "    .dataframe tbody tr th {\n",
       "        vertical-align: top;\n",
       "    }\n",
       "\n",
       "    .dataframe thead th {\n",
       "        text-align: right;\n",
       "    }\n",
       "</style>\n",
       "<table border=\"1\" class=\"dataframe\">\n",
       "  <thead>\n",
       "    <tr style=\"text-align: right;\">\n",
       "      <th></th>\n",
       "      <th>RankDifference</th>\n",
       "      <th>WinLoss</th>\n",
       "      <th>WinPred</th>\n",
       "      <th>LossPred</th>\n",
       "    </tr>\n",
       "  </thead>\n",
       "  <tbody>\n",
       "    <tr>\n",
       "      <th>1136</th>\n",
       "      <td>1.062500</td>\n",
       "      <td>1</td>\n",
       "      <td>0.507270</td>\n",
       "      <td>0.492730</td>\n",
       "    </tr>\n",
       "    <tr>\n",
       "      <th>1137</th>\n",
       "      <td>-150.448529</td>\n",
       "      <td>1</td>\n",
       "      <td>0.016013</td>\n",
       "      <td>0.983987</td>\n",
       "    </tr>\n",
       "    <tr>\n",
       "      <th>1138</th>\n",
       "      <td>14.294118</td>\n",
       "      <td>1</td>\n",
       "      <td>0.596588</td>\n",
       "      <td>0.403412</td>\n",
       "    </tr>\n",
       "    <tr>\n",
       "      <th>1139</th>\n",
       "      <td>24.952206</td>\n",
       "      <td>1</td>\n",
       "      <td>0.664410</td>\n",
       "      <td>0.335590</td>\n",
       "    </tr>\n",
       "    <tr>\n",
       "      <th>1140</th>\n",
       "      <td>-13.906250</td>\n",
       "      <td>1</td>\n",
       "      <td>0.405970</td>\n",
       "      <td>0.594030</td>\n",
       "    </tr>\n",
       "  </tbody>\n",
       "</table>\n",
       "</div>"
      ],
      "text/plain": [
       "      RankDifference  WinLoss   WinPred  LossPred\n",
       "1136        1.062500        1  0.507270  0.492730\n",
       "1137     -150.448529        1  0.016013  0.983987\n",
       "1138       14.294118        1  0.596588  0.403412\n",
       "1139       24.952206        1  0.664410  0.335590\n",
       "1140      -13.906250        1  0.405970  0.594030"
      ]
     },
     "execution_count": 38,
     "metadata": {},
     "output_type": "execute_result"
    }
   ],
   "source": [
    "rank_dataset['WinPred'] = [x[0] for x in logreg2.predict_proba(X2)]\n",
    "rank_dataset['LossPred'] = [x[1] for x in logreg2.predict_proba(X2)]\n",
    "rank_dataset.head()"
   ]
  },
  {
   "cell_type": "code",
   "execution_count": 39,
   "metadata": {},
   "outputs": [],
   "source": [
    "rank_dataset = rank_dataset.iloc[0:981]"
   ]
  },
  {
   "cell_type": "code",
   "execution_count": 40,
   "metadata": {
    "scrolled": true
   },
   "outputs": [
    {
     "data": {
      "text/html": [
       "<div>\n",
       "<style scoped>\n",
       "    .dataframe tbody tr th:only-of-type {\n",
       "        vertical-align: middle;\n",
       "    }\n",
       "\n",
       "    .dataframe tbody tr th {\n",
       "        vertical-align: top;\n",
       "    }\n",
       "\n",
       "    .dataframe thead th {\n",
       "        text-align: right;\n",
       "    }\n",
       "</style>\n",
       "<table border=\"1\" class=\"dataframe\">\n",
       "  <thead>\n",
       "    <tr style=\"text-align: right;\">\n",
       "      <th></th>\n",
       "      <th>Season</th>\n",
       "      <th>WTeamID</th>\n",
       "      <th>LTeamID</th>\n",
       "      <th>WAvgRank</th>\n",
       "      <th>LAvgRank</th>\n",
       "      <th>RankDifference</th>\n",
       "      <th>WinPred</th>\n",
       "      <th>LossPred</th>\n",
       "    </tr>\n",
       "  </thead>\n",
       "  <tbody>\n",
       "    <tr>\n",
       "      <th>0</th>\n",
       "      <td>2003</td>\n",
       "      <td>1421</td>\n",
       "      <td>1411</td>\n",
       "      <td>240.343750</td>\n",
       "      <td>239.281250</td>\n",
       "      <td>1.062500</td>\n",
       "      <td>0.507270</td>\n",
       "      <td>0.492730</td>\n",
       "    </tr>\n",
       "    <tr>\n",
       "      <th>1</th>\n",
       "      <td>2003</td>\n",
       "      <td>1112</td>\n",
       "      <td>1436</td>\n",
       "      <td>2.676471</td>\n",
       "      <td>153.125000</td>\n",
       "      <td>-150.448529</td>\n",
       "      <td>0.016013</td>\n",
       "      <td>0.983987</td>\n",
       "    </tr>\n",
       "    <tr>\n",
       "      <th>2</th>\n",
       "      <td>2003</td>\n",
       "      <td>1113</td>\n",
       "      <td>1272</td>\n",
       "      <td>36.000000</td>\n",
       "      <td>21.705882</td>\n",
       "      <td>14.294118</td>\n",
       "      <td>0.596588</td>\n",
       "      <td>0.403412</td>\n",
       "    </tr>\n",
       "    <tr>\n",
       "      <th>3</th>\n",
       "      <td>2003</td>\n",
       "      <td>1141</td>\n",
       "      <td>1166</td>\n",
       "      <td>45.687500</td>\n",
       "      <td>20.735294</td>\n",
       "      <td>24.952206</td>\n",
       "      <td>0.664410</td>\n",
       "      <td>0.335590</td>\n",
       "    </tr>\n",
       "    <tr>\n",
       "      <th>4</th>\n",
       "      <td>2003</td>\n",
       "      <td>1143</td>\n",
       "      <td>1301</td>\n",
       "      <td>36.406250</td>\n",
       "      <td>50.312500</td>\n",
       "      <td>-13.906250</td>\n",
       "      <td>0.405970</td>\n",
       "      <td>0.594030</td>\n",
       "    </tr>\n",
       "  </tbody>\n",
       "</table>\n",
       "</div>"
      ],
      "text/plain": [
       "   Season  WTeamID  LTeamID    WAvgRank    LAvgRank  RankDifference   WinPred  \\\n",
       "0    2003     1421     1411  240.343750  239.281250        1.062500  0.507270   \n",
       "1    2003     1112     1436    2.676471  153.125000     -150.448529  0.016013   \n",
       "2    2003     1113     1272   36.000000   21.705882       14.294118  0.596588   \n",
       "3    2003     1141     1166   45.687500   20.735294       24.952206  0.664410   \n",
       "4    2003     1143     1301   36.406250   50.312500      -13.906250  0.405970   \n",
       "\n",
       "   LossPred  \n",
       "0  0.492730  \n",
       "1  0.983987  \n",
       "2  0.403412  \n",
       "3  0.335590  \n",
       "4  0.594030  "
      ]
     },
     "execution_count": 40,
     "metadata": {},
     "output_type": "execute_result"
    }
   ],
   "source": [
    "final_dataset = pd.merge(left = tourney_rankings, right = rank_dataset, how = 'left', on = ['RankDifference'])\n",
    "final_dataset.drop('WinLoss', inplace=True, axis=1)\n",
    "final_dataset.head()"
   ]
  },
  {
   "cell_type": "markdown",
   "metadata": {},
   "source": [
    "Finally, I wanted to be able to visualize this in some way so plotted a simplete scatter plot of `RankDifference` and `WinPred`."
   ]
  },
  {
   "cell_type": "code",
   "execution_count": 41,
   "metadata": {},
   "outputs": [
    {
     "data": {
      "image/png": "[encoded data removed]",
      "text/plain": [
       "<Figure size 432x288 with 1 Axes>"
      ]
     },
     "metadata": {
      "needs_background": "light"
     },
     "output_type": "display_data"
    }
   ],
   "source": [
    "fig, ax = plt.subplots()\n",
    "final_dataset.plot.scatter(x=\"RankDifference\", y=\"WinPred\", label=\"Teams\", ax=ax)\n",
    "ax.legend();"
   ]
  },
  {
   "cell_type": "code",
   "execution_count": 42,
   "metadata": {},
   "outputs": [
    {
     "data": {
      "text/html": [
       "<div>\n",
       "<style scoped>\n",
       "    .dataframe tbody tr th:only-of-type {\n",
       "        vertical-align: middle;\n",
       "    }\n",
       "\n",
       "    .dataframe tbody tr th {\n",
       "        vertical-align: top;\n",
       "    }\n",
       "\n",
       "    .dataframe thead th {\n",
       "        text-align: right;\n",
       "    }\n",
       "</style>\n",
       "<table border=\"1\" class=\"dataframe\">\n",
       "  <thead>\n",
       "    <tr style=\"text-align: right;\">\n",
       "      <th></th>\n",
       "      <th>Season</th>\n",
       "      <th>WTeamID</th>\n",
       "      <th>LTeamID</th>\n",
       "      <th>WAvgRank</th>\n",
       "      <th>LAvgRank</th>\n",
       "      <th>RankDifference</th>\n",
       "      <th>WinPred</th>\n",
       "      <th>LossPred</th>\n",
       "    </tr>\n",
       "  </thead>\n",
       "  <tbody>\n",
       "    <tr>\n",
       "      <th>0</th>\n",
       "      <td>2003</td>\n",
       "      <td>1421</td>\n",
       "      <td>1411</td>\n",
       "      <td>240.343750</td>\n",
       "      <td>239.281250</td>\n",
       "      <td>1.062500</td>\n",
       "      <td>0.507270</td>\n",
       "      <td>0.492730</td>\n",
       "    </tr>\n",
       "    <tr>\n",
       "      <th>2</th>\n",
       "      <td>2003</td>\n",
       "      <td>1113</td>\n",
       "      <td>1272</td>\n",
       "      <td>36.000000</td>\n",
       "      <td>21.705882</td>\n",
       "      <td>14.294118</td>\n",
       "      <td>0.596588</td>\n",
       "      <td>0.403412</td>\n",
       "    </tr>\n",
       "    <tr>\n",
       "      <th>3</th>\n",
       "      <td>2003</td>\n",
       "      <td>1141</td>\n",
       "      <td>1166</td>\n",
       "      <td>45.687500</td>\n",
       "      <td>20.735294</td>\n",
       "      <td>24.952206</td>\n",
       "      <td>0.664410</td>\n",
       "      <td>0.335590</td>\n",
       "    </tr>\n",
       "    <tr>\n",
       "      <th>4</th>\n",
       "      <td>2003</td>\n",
       "      <td>1143</td>\n",
       "      <td>1301</td>\n",
       "      <td>36.406250</td>\n",
       "      <td>50.312500</td>\n",
       "      <td>-13.906250</td>\n",
       "      <td>0.405970</td>\n",
       "      <td>0.594030</td>\n",
       "    </tr>\n",
       "    <tr>\n",
       "      <th>5</th>\n",
       "      <td>2003</td>\n",
       "      <td>1163</td>\n",
       "      <td>1140</td>\n",
       "      <td>27.500000</td>\n",
       "      <td>28.593750</td>\n",
       "      <td>-1.093750</td>\n",
       "      <td>0.492516</td>\n",
       "      <td>0.507484</td>\n",
       "    </tr>\n",
       "    <tr>\n",
       "      <th>...</th>\n",
       "      <td>...</td>\n",
       "      <td>...</td>\n",
       "      <td>...</td>\n",
       "      <td>...</td>\n",
       "      <td>...</td>\n",
       "      <td>...</td>\n",
       "      <td>...</td>\n",
       "      <td>...</td>\n",
       "    </tr>\n",
       "    <tr>\n",
       "      <th>975</th>\n",
       "      <td>2017</td>\n",
       "      <td>1376</td>\n",
       "      <td>1124</td>\n",
       "      <td>38.097222</td>\n",
       "      <td>14.346667</td>\n",
       "      <td>23.750556</td>\n",
       "      <td>0.657037</td>\n",
       "      <td>0.342963</td>\n",
       "    </tr>\n",
       "    <tr>\n",
       "      <th>977</th>\n",
       "      <td>2017</td>\n",
       "      <td>1332</td>\n",
       "      <td>1242</td>\n",
       "      <td>11.946667</td>\n",
       "      <td>6.040000</td>\n",
       "      <td>5.906667</td>\n",
       "      <td>0.540333</td>\n",
       "      <td>0.459667</td>\n",
       "    </tr>\n",
       "    <tr>\n",
       "      <th>978</th>\n",
       "      <td>2017</td>\n",
       "      <td>1314</td>\n",
       "      <td>1246</td>\n",
       "      <td>5.426667</td>\n",
       "      <td>4.813333</td>\n",
       "      <td>0.613333</td>\n",
       "      <td>0.504197</td>\n",
       "      <td>0.495803</td>\n",
       "    </tr>\n",
       "    <tr>\n",
       "      <th>981</th>\n",
       "      <td>2017</td>\n",
       "      <td>1314</td>\n",
       "      <td>1332</td>\n",
       "      <td>5.426667</td>\n",
       "      <td>11.946667</td>\n",
       "      <td>-6.520000</td>\n",
       "      <td>0.455501</td>\n",
       "      <td>0.544499</td>\n",
       "    </tr>\n",
       "    <tr>\n",
       "      <th>982</th>\n",
       "      <td>2017</td>\n",
       "      <td>1314</td>\n",
       "      <td>1211</td>\n",
       "      <td>5.426667</td>\n",
       "      <td>2.013333</td>\n",
       "      <td>3.413333</td>\n",
       "      <td>0.523341</td>\n",
       "      <td>0.476659</td>\n",
       "    </tr>\n",
       "  </tbody>\n",
       "</table>\n",
       "<p>492 rows × 8 columns</p>\n",
       "</div>"
      ],
      "text/plain": [
       "     Season  WTeamID  LTeamID    WAvgRank    LAvgRank  RankDifference  \\\n",
       "0      2003     1421     1411  240.343750  239.281250        1.062500   \n",
       "2      2003     1113     1272   36.000000   21.705882       14.294118   \n",
       "3      2003     1141     1166   45.687500   20.735294       24.952206   \n",
       "4      2003     1143     1301   36.406250   50.312500      -13.906250   \n",
       "5      2003     1163     1140   27.500000   28.593750       -1.093750   \n",
       "..      ...      ...      ...         ...         ...             ...   \n",
       "975    2017     1376     1124   38.097222   14.346667       23.750556   \n",
       "977    2017     1332     1242   11.946667    6.040000        5.906667   \n",
       "978    2017     1314     1246    5.426667    4.813333        0.613333   \n",
       "981    2017     1314     1332    5.426667   11.946667       -6.520000   \n",
       "982    2017     1314     1211    5.426667    2.013333        3.413333   \n",
       "\n",
       "      WinPred  LossPred  \n",
       "0    0.507270  0.492730  \n",
       "2    0.596588  0.403412  \n",
       "3    0.664410  0.335590  \n",
       "4    0.405970  0.594030  \n",
       "5    0.492516  0.507484  \n",
       "..        ...       ...  \n",
       "975  0.657037  0.342963  \n",
       "977  0.540333  0.459667  \n",
       "978  0.504197  0.495803  \n",
       "981  0.455501  0.544499  \n",
       "982  0.523341  0.476659  \n",
       "\n",
       "[492 rows x 8 columns]"
      ]
     },
     "execution_count": 42,
     "metadata": {},
     "output_type": "execute_result"
    }
   ],
   "source": [
    "subset = final_dataset.loc[(final_dataset[\"RankDifference\"]>-25) & (final_dataset[\"RankDifference\"]<25)]\n",
    "subset"
   ]
  },
  {
   "cell_type": "code",
   "execution_count": 43,
   "metadata": {},
   "outputs": [
    {
     "data": {
      "image/png": "[encoded data removed]",
      "text/plain": [
       "<Figure size 432x288 with 1 Axes>"
      ]
     },
     "metadata": {
      "needs_background": "light"
     },
     "output_type": "display_data"
    }
   ],
   "source": [
    "fig, ax = plt.subplots()\n",
    "subset.plot.scatter(x=\"RankDifference\", y=\"WinPred\", label=\"Teams\", ax=ax)\n",
    "ax.legend();"
   ]
  }
 ],
 "metadata": {
  "kernelspec": {
   "display_name": "Python (learn-env)~",
   "language": "python",
   "name": "learn-env"
  },
  "language_info": {
   "codemirror_mode": {
    "name": "ipython",
    "version": 3
   },
   "file_extension": ".py",
   "mimetype": "text/x-python",
   "name": "python",
   "nbconvert_exporter": "python",
   "pygments_lexer": "ipython3",
   "version": "3.8.5"
  }
 },
 "nbformat": 4,
 "nbformat_minor": 4
}
